{
  "cells": [
    {
      "cell_type": "markdown",
      "metadata": {
        "id": "view-in-github",
        "colab_type": "text"
      },
      "source": [
        "<a href=\"https://colab.research.google.com/github/sidhu820/pima-diabetics-pytorch/blob/main/Task_2_.ipynb\" target=\"_parent\"><img src=\"https://colab.research.google.com/assets/colab-badge.svg\" alt=\"Open In Colab\"/></a>"
      ]
    },
    {
      "cell_type": "code",
      "execution_count": null,
      "metadata": {
        "id": "KckzVS-ZvXNT"
      },
      "outputs": [],
      "source": [
        "import torch\n",
        "import torch.nn as nn\n",
        "import torch.optim as optim\n",
        "import torch.nn.functional as F\n",
        "import pandas as pd\n",
        "import numpy as np\n",
        "from sklearn.model_selection import train_test_split\n",
        "import matplotlib.pyplot as plt\n",
        "from sklearn.preprocessing import StandardScaler"
      ]
    },
    {
      "cell_type": "code",
      "execution_count": null,
      "metadata": {
        "id": "vidy38Wy37kd",
        "colab": {
          "base_uri": "https://localhost:8080/"
        },
        "outputId": "4165ab8f-357b-4662-aca2-c2fbc7c8c929"
      },
      "outputs": [
        {
          "output_type": "stream",
          "name": "stdout",
          "text": [
            "   Pregnancies  Glucose  BloodPressure  SkinThickness  Insulin   BMI  \\\n",
            "0            6      148             72             35        0  33.6   \n",
            "1            1       85             66             29        0  26.6   \n",
            "2            8      183             64              0        0  23.3   \n",
            "3            1       89             66             23       94  28.1   \n",
            "4            0      137             40             35      168  43.1   \n",
            "\n",
            "   DiabetesPedigreeFunction  Age  Outcome  \n",
            "0                     0.627   50        1  \n",
            "1                     0.351   31        0  \n",
            "2                     0.672   32        1  \n",
            "3                     0.167   21        0  \n",
            "4                     2.288   33        1  \n"
          ]
        }
      ],
      "source": [
        "url='https://raw.githubusercontent.com/npradaschnor/Pima-Indians-Diabetes-Dataset/master/diabetes.csv'\n",
        "df = pd.read_csv(url)\n",
        "print(df.head())"
      ]
    },
    {
      "cell_type": "code",
      "execution_count": null,
      "metadata": {
        "id": "3UJFU2h48eyX"
      },
      "outputs": [],
      "source": [
        "x=df.drop('Outcome',axis=1).values\n",
        "y=df['Outcome'].values\n",
        "sc = StandardScaler()\n",
        "x= sc.fit_transform(x)"
      ]
    },
    {
      "cell_type": "code",
      "execution_count": null,
      "metadata": {
        "id": "tTyjA-xY8i67"
      },
      "outputs": [],
      "source": [
        "X = torch.FloatTensor(x)\n",
        "y = torch.FloatTensor(y).reshape(-1,1)"
      ]
    },
    {
      "cell_type": "code",
      "execution_count": null,
      "metadata": {
        "id": "QMBuE5lA8ncc"
      },
      "outputs": [],
      "source": [
        "X_train,X_test,y_train,y_test = train_test_split(X,y, test_size= 0.2, random_state = 42, shuffle= True)\n",
        "X_train,X_val,y_train,y_val = train_test_split( X_train, y_train, test_size= 0.2, random_state = 42, shuffle= True)"
      ]
    },
    {
      "cell_type": "code",
      "execution_count": null,
      "metadata": {
        "id": "4dZoIJqG8rbC"
      },
      "outputs": [],
      "source": [
        "class Pimaclassifier(nn.Module):\n",
        "    def __init__(self):\n",
        "        super().__init__()\n",
        "\n",
        "        self.input = nn.Linear(8,12)\n",
        "        self.h1 = nn.Linear(12,10)\n",
        "        self.output = nn.Linear(10,1)\n",
        "\n",
        "    def forward(self, x):\n",
        "\n",
        "        x = F.relu(self.input(x))\n",
        "        x = F.relu(self.h1(x))\n",
        "        x = F.sigmoid(self.output(x))\n",
        "\n",
        "        return x"
      ]
    },
    {
      "cell_type": "code",
      "execution_count": null,
      "metadata": {
        "id": "CU6g9CXZ8um9",
        "colab": {
          "base_uri": "https://localhost:8080/"
        },
        "outputId": "fa2dc78d-9d7b-4dde-d8cf-3755ec52af94"
      },
      "outputs": [
        {
          "output_type": "execute_result",
          "data": {
            "text/plain": [
              "Pimaclassifier(\n",
              "  (input): Linear(in_features=8, out_features=12, bias=True)\n",
              "  (h1): Linear(in_features=12, out_features=10, bias=True)\n",
              "  (output): Linear(in_features=10, out_features=1, bias=True)\n",
              ")"
            ]
          },
          "metadata": {},
          "execution_count": 265
        }
      ],
      "source": [
        "torch.manual_seed(29)\n",
        "first_model = Pimaclassifier()\n",
        "first_model"
      ]
    },
    {
      "cell_type": "code",
      "execution_count": null,
      "metadata": {
        "id": "E0xakPgg8zS7"
      },
      "outputs": [],
      "source": [
        "loss_1 = nn.BCELoss()\n",
        "optimizer = optim.Adam(first_model.parameters(), lr = 0.0001)"
      ]
    },
    {
      "cell_type": "code",
      "execution_count": null,
      "metadata": {
        "id": "T2ZcShw-82V0",
        "colab": {
          "base_uri": "https://localhost:8080/"
        },
        "outputId": "ac6f6c40-cfc4-4ae0-896b-07a8f9aabead"
      },
      "outputs": [
        {
          "output_type": "stream",
          "name": "stdout",
          "text": [
            "epoch :9,training loss : 0.7553547851422654, validation loss :0.7456566691398621,\n",
            "training accuracy :0.3532679080963135, validation accuracy :0.3414634168148041\n",
            "epoch :19,training loss : 0.7155097404953904, validation loss :0.7063246965408325,\n",
            "training accuracy :0.4367709755897522, validation accuracy :0.4390243887901306\n",
            "epoch :29,training loss : 0.6684897557781088, validation loss :0.6627535223960876,\n",
            "training accuracy :0.6711720824241638, validation accuracy :0.6178861856460571\n",
            "epoch :39,training loss : 0.6215777076674576, validation loss :0.6218525171279907,\n",
            "training accuracy :0.6976485848426819, validation accuracy :0.6910569071769714\n",
            "epoch :49,training loss : 0.5849033205669426, validation loss :0.5929327607154846,\n",
            "training accuracy :0.7220885157585144, validation accuracy :0.707317054271698\n",
            "epoch :59,training loss : 0.558144174622421, validation loss :0.5721660852432251,\n",
            "training accuracy :0.7183855175971985, validation accuracy :0.7154471278190613\n",
            "epoch :69,training loss : 0.5360038241640857, validation loss :0.5522322058677673,\n",
            "training accuracy :0.7391223907470703, validation accuracy :0.7235772609710693\n",
            "epoch :79,training loss : 0.5162382939196896, validation loss :0.5316839218139648,\n",
            "training accuracy :0.7493056058883667, validation accuracy :0.7235772609710693\n",
            "epoch :89,training loss : 0.49907466544638823, validation loss :0.5112881064414978,\n",
            "training accuracy :0.7598592638969421, validation accuracy :0.7479674816131592\n",
            "epoch :99,training loss : 0.48507943294198835, validation loss :0.49508392810821533,\n",
            "training accuracy :0.7700426578521729, validation accuracy :0.7398374080657959\n",
            "epoch :109,training loss : 0.4741805913249247, validation loss :0.484507292509079,\n",
            "training accuracy :0.7883725762367249, validation accuracy :0.7560975551605225\n",
            "epoch :119,training loss : 0.4664103629147205, validation loss :0.47837457060813904,\n",
            "training accuracy :0.7965191602706909, validation accuracy :0.7560975551605225\n",
            "epoch :129,training loss : 0.46068237051216016, validation loss :0.47618040442466736,\n",
            "training accuracy :0.8005925416946411, validation accuracy :0.7560975551605225\n"
          ]
        }
      ],
      "source": [
        "epochs = 130\n",
        "batch_size = 20\n",
        "training_loss = []\n",
        "validation_loss = []\n",
        "\n",
        "\n",
        "for epoch in range(epochs):\n",
        "    epoch_loss = 0\n",
        "    taccuracy = 0\n",
        "    first_model.train()\n",
        "    optimizer.zero_grad()\n",
        "    for i in range(0, len(X_train), batch_size):\n",
        "        Xbatch = X_train[i:i+batch_size]\n",
        "        ybatch = y_train[i:i+batch_size]\n",
        "        y_pred = first_model(Xbatch)\n",
        "        loss = loss_1(y_pred,ybatch)\n",
        "        epoch_loss += loss.item()\n",
        "        loss.backward()\n",
        "        optimizer.step()\n",
        "        taccuracy += (y_pred.round() == ybatch).float().mean()\n",
        "\n",
        "    epoch_loss /= len(X_train) / batch_size\n",
        "    training_loss.append(epoch_loss)\n",
        "\n",
        "    with torch.no_grad():\n",
        "        first_model.eval()\n",
        "        val_pred = first_model(X_val)\n",
        "        loss = loss_1(val_pred,y_val)\n",
        "        validation_loss.append(loss.item())\n",
        "        accuracy = (val_pred.round() == y_val).float().mean()\n",
        "    if (epoch+1) % 10 == 0:\n",
        "        print(f'epoch :{epoch},training loss : {epoch_loss}, validation loss :{loss.item()},\\ntraining accuracy :{taccuracy/(len(X_train) / batch_size)}, validation accuracy :{accuracy}')\n"
      ]
    },
    {
      "cell_type": "code",
      "execution_count": null,
      "metadata": {
        "id": "QDT42xdb-4T0",
        "colab": {
          "base_uri": "https://localhost:8080/",
          "height": 449
        },
        "outputId": "2d1999f9-0e73-4dc5-8f19-cc378b6f0f16"
      },
      "outputs": [
        {
          "output_type": "display_data",
          "data": {
            "text/plain": [
              "<Figure size 640x480 with 1 Axes>"
            ],
            "image/png": "[encoded data removed]"
          },
          "metadata": {}
        }
      ],
      "source": [
        "plt.plot(training_loss, label = 'Training Loss')\n",
        "plt.plot(validation_loss, label = 'Validation Loss')\n",
        "plt.xlabel('Epoch')\n",
        "plt.ylabel('Loss')\n",
        "plt.legend()\n",
        "plt.show()"
      ]
    },
    {
      "cell_type": "code",
      "execution_count": null,
      "metadata": {
        "id": "wPWANMVqA4gx",
        "colab": {
          "base_uri": "https://localhost:8080/"
        },
        "outputId": "85c926be-d76a-4406-9e02-e367716fe28d"
      },
      "outputs": [
        {
          "output_type": "stream",
          "name": "stdout",
          "text": [
            "Testing Accuracy : 74.0259780883789\n",
            "got 114.0 correct from 154\n"
          ]
        }
      ],
      "source": [
        "with torch.no_grad():\n",
        "    first_model.eval()\n",
        "    y_test_pred = first_model(X_test)\n",
        "    loss_val = loss_1(y_test_pred, y_test).item()\n",
        "\n",
        "    correct = (y_test_pred.round() == y_test).float().sum()\n",
        "    total = float(y_test.size(0))\n",
        "    print(\"Testing Accuracy :\",((correct / total) * 100 ).item())\n",
        "    print(f\"got {correct} correct from {len(X_test)}\")"
      ]
    },
    {
      "cell_type": "code",
      "execution_count": null,
      "metadata": {
        "id": "uZnV-1EwCehs"
      },
      "outputs": [],
      "source": [
        "def add_noise(X_train,y_train,num_of_times,mean=0.1,std=0.2):\n",
        "\n",
        "  new_X_train=[]\n",
        "  new_y_train=[]\n",
        "\n",
        "  for _ in range(num_of_times):\n",
        "    # data=X_train.clone\n",
        "    noisy_data=X_train[:,1:].clone()\n",
        "    noise=torch.randn_like(noisy_data) * std + mean\n",
        "    noisy_data += noise\n",
        "    noisy_data = torch.cat((X_train[:,0].unsqueeze(1),noisy_data), dim=1)\n",
        "    new_X_train.append(noisy_data)\n",
        "    new_y_train.append(y_train.clone())\n",
        "\n",
        "  return torch.cat(new_X_train, dim=0) , torch.cat(new_y_train, dim=0)\n",
        "\n",
        "\n",
        "X_train_noisy,y_train_noisy = add_noise(X_train,y_train,num_of_times=2)"
      ]
    },
    {
      "cell_type": "code",
      "execution_count": null,
      "metadata": {
        "id": "xb1H3AMaG7Ib",
        "colab": {
          "base_uri": "https://localhost:8080/"
        },
        "outputId": "9f0e55b2-c8ab-4fdd-d817-4242d630be57"
      },
      "outputs": [
        {
          "output_type": "execute_result",
          "data": {
            "text/plain": [
              "Pimaclassifier(\n",
              "  (input): Linear(in_features=8, out_features=12, bias=True)\n",
              "  (h1): Linear(in_features=12, out_features=10, bias=True)\n",
              "  (output): Linear(in_features=10, out_features=1, bias=True)\n",
              ")"
            ]
          },
          "metadata": {},
          "execution_count": 271
        }
      ],
      "source": [
        "torch.manual_seed(37)\n",
        "# 37 150 100\n",
        "new_model = Pimaclassifier()\n",
        "new_model"
      ]
    },
    {
      "cell_type": "code",
      "execution_count": null,
      "metadata": {
        "id": "axb1ZOSUQAFj"
      },
      "outputs": [],
      "source": [
        "loss_2 = nn.BCELoss()\n",
        "optimizer_new = optim.Adam(new_model.parameters(), lr = 0.0001)"
      ]
    },
    {
      "cell_type": "code",
      "execution_count": null,
      "metadata": {
        "id": "mE_d9UcdH6rC",
        "colab": {
          "base_uri": "https://localhost:8080/"
        },
        "outputId": "d1be687a-bfaf-4d1d-8e37-b38873dc1b96"
      },
      "outputs": [
        {
          "output_type": "stream",
          "name": "stdout",
          "text": [
            "epoch :9,training loss : 0.6694817737260806, validation loss :0.6563990116119385,\n",
            "training accuracy :0.6642491221427917, validation accuracy :0.6585366129875183\n",
            "epoch :19,training loss : 0.6626137344511852, validation loss :0.6493957042694092,\n",
            "training accuracy :0.6673041582107544, validation accuracy :0.6585366129875183\n",
            "epoch :29,training loss : 0.6542768473537779, validation loss :0.6404389142990112,\n",
            "training accuracy :0.6764692068099976, validation accuracy :0.6666666865348816\n",
            "epoch :39,training loss : 0.6440636582384284, validation loss :0.6294048428535461,\n",
            "training accuracy :0.6954697370529175, validation accuracy :0.6991869807243347\n",
            "epoch :49,training loss : 0.6317398577260874, validation loss :0.616394579410553,\n",
            "training accuracy :0.7075654864311218, validation accuracy :0.707317054271698\n",
            "epoch :59,training loss : 0.6181794975537146, validation loss :0.6022053360939026,\n",
            "training accuracy :0.7212508320808411, validation accuracy :0.7154471278190613\n",
            "epoch :69,training loss : 0.6039342727292094, validation loss :0.5869488716125488,\n",
            "training accuracy :0.7400279641151428, validation accuracy :0.7154471278190613\n",
            "epoch :79,training loss : 0.5890111877087906, validation loss :0.5714052319526672,\n",
            "training accuracy :0.745343029499054, validation accuracy :0.707317054271698\n",
            "epoch :89,training loss : 0.573662785308667, validation loss :0.5560412406921387,\n",
            "training accuracy :0.7516765594482422, validation accuracy :0.7154471278190613\n",
            "epoch :99,training loss : 0.5581347192134973, validation loss :0.5411568880081177,\n",
            "training accuracy :0.7580100893974304, validation accuracy :0.707317054271698\n",
            "epoch :109,training loss : 0.5432153094081917, validation loss :0.5271562337875366,\n",
            "training accuracy :0.7684168815612793, validation accuracy :0.7235772609710693\n",
            "epoch :119,training loss : 0.5293214970596453, validation loss :0.5141715407371521,\n",
            "training accuracy :0.7755451798439026, validation accuracy :0.7398374080657959\n",
            "epoch :129,training loss : 0.5168602204371373, validation loss :0.5018301010131836,\n",
            "training accuracy :0.7765635848045349, validation accuracy :0.7317073345184326\n",
            "epoch :139,training loss : 0.5060642229321046, validation loss :0.4911589026451111,\n",
            "training accuracy :0.7750981450080872, validation accuracy :0.7317073345184326\n",
            "epoch :149,training loss : 0.49662859522398034, validation loss :0.4823945164680481,\n",
            "training accuracy :0.7793950438499451, validation accuracy :0.7398374080657959\n"
          ]
        }
      ],
      "source": [
        "epochs = 150\n",
        "batch_size = 100\n",
        "# 140, 60, 150, 75, 150, 80, 90, 175, 95,\n",
        "training_loss = []\n",
        "validation_loss = []\n",
        "\n",
        "\n",
        "for epoch in range(epochs):\n",
        "    epoch_loss = 0\n",
        "    taccuracy = 0\n",
        "    new_model.train()\n",
        "    optimizer_new.zero_grad()\n",
        "    for i in range(0, len(X_train_noisy), batch_size):\n",
        "        Xbatch = X_train_noisy[i:i+batch_size]\n",
        "        ybatch = y_train_noisy[i:i+batch_size]\n",
        "        noise_pred = new_model(Xbatch)\n",
        "        loss = loss_2(noise_pred,ybatch)\n",
        "        epoch_loss += loss.item()\n",
        "        loss.backward()\n",
        "        optimizer_new.step()\n",
        "        taccuracy += (noise_pred.round() == ybatch).float().mean()\n",
        "\n",
        "    epoch_loss /= len(X_train_noisy) / batch_size\n",
        "    training_loss.append(epoch_loss)\n",
        "\n",
        "    with torch.no_grad():\n",
        "        new_model.eval()\n",
        "        noise_val_pred = new_model(X_val)\n",
        "        loss = loss_2(noise_val_pred,y_val)\n",
        "        validation_loss.append(loss.item())\n",
        "        accuracy = (noise_val_pred.round() == y_val).float().mean()\n",
        "\n",
        "    if (epoch+1) % 10 == 0:\n",
        "        print(f'epoch :{epoch},training loss : {epoch_loss}, validation loss :{loss.item()},\\ntraining accuracy :{taccuracy/(len(X_train_noisy) / batch_size)}, validation accuracy :{accuracy}')"
      ]
    },
    {
      "cell_type": "code",
      "execution_count": null,
      "metadata": {
        "id": "ygqfztXZI29l",
        "colab": {
          "base_uri": "https://localhost:8080/",
          "height": 449
        },
        "outputId": "581cef3e-436d-4f3a-c415-1866ffe71f78"
      },
      "outputs": [
        {
          "output_type": "display_data",
          "data": {
            "text/plain": [
              "<Figure size 640x480 with 1 Axes>"
            ],
            "image/png": "[encoded data removed]"
          },
          "metadata": {}
        }
      ],
      "source": [
        "plt.plot(training_loss, label = 'Training Loss')\n",
        "plt.plot(validation_loss, label = 'Validation Loss')\n",
        "plt.xlabel('Epoch')\n",
        "plt.ylabel('Loss')\n",
        "plt.legend()\n",
        "plt.show()"
      ]
    },
    {
      "cell_type": "code",
      "execution_count": null,
      "metadata": {
        "colab": {
          "base_uri": "https://localhost:8080/"
        },
        "id": "19aFfGohJDxT",
        "outputId": "795fad6b-0608-42c3-ba40-b35f17f9ac05"
      },
      "outputs": [
        {
          "output_type": "stream",
          "name": "stdout",
          "text": [
            "Testing Accuracy : 80.51947784423828\n",
            "got 124.0 correct from 154\n"
          ]
        }
      ],
      "source": [
        "with torch.no_grad():\n",
        "    new_model.eval()\n",
        "    noise_test = new_model(X_test)\n",
        "    loss_val = loss_2(noise_test, y_test).item()\n",
        "\n",
        "    correct = (noise_test.round() == y_test).float().sum()\n",
        "    total = float(y_test.size(0))\n",
        "    print(\"Testing Accuracy :\",((correct / total) * 100 ).item())\n",
        "    print(f\"got {correct} correct from {len(X_test)}\")"
      ]
    }
  ],
  "metadata": {
    "colab": {
      "provenance": [],
      "authorship_tag": "ABX9TyMyfK/aT/dxE41T2vCmFLjM",
      "include_colab_link": true
    },
    "kernelspec": {
      "display_name": "Python 3",
      "name": "python3"
    },
    "language_info": {
      "name": "python"
    }
  },
  "nbformat": 4,
  "nbformat_minor": 0
}