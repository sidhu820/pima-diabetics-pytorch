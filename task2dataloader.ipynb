{
 "cells": [
  {
   "cell_type": "code",
   "execution_count": 1,
   "id": "4e5b79be-aa77-496b-8a69-126969058bc1",
   "metadata": {},
   "outputs": [],
   "source": [
    "import torch\n",
    "import torch.nn as nn\n",
    "import torch.optim as optim\n",
    "import torch.nn.functional as F\n",
    "from torch.utils.data import DataLoader, TensorDataset\n",
    "import pandas as pd\n",
    "import numpy as np\n",
    "import matplotlib.pyplot as plt\n",
    "from sklearn.model_selection import train_test_split"
   ]
  },
  {
   "cell_type": "code",
   "execution_count": 2,
   "id": "03ebd6e7-e446-44ff-9965-c525f1556d3c",
   "metadata": {},
   "outputs": [
    {
     "name": "stdout",
     "output_type": "stream",
     "text": [
      "   Pregnancies  Glucose  BloodPressure  SkinThickness  Insulin   BMI  \\\n",
      "0            6      148             72             35        0  33.6   \n",
      "1            1       85             66             29        0  26.6   \n",
      "2            8      183             64              0        0  23.3   \n",
      "3            1       89             66             23       94  28.1   \n",
      "4            0      137             40             35      168  43.1   \n",
      "\n",
      "   DiabetesPedigreeFunction  Age  Outcome  \n",
      "0                     0.627   50        1  \n",
      "1                     0.351   31        0  \n",
      "2                     0.672   32        1  \n",
      "3                     0.167   21        0  \n",
      "4                     2.288   33        1  \n"
     ]
    }
   ],
   "source": [
    "url='https://raw.githubusercontent.com/npradaschnor/Pima-Indians-Diabetes-Dataset/master/diabetes.csv'\n",
    "df = pd.read_csv(url)\n",
    "print(df.head())"
   ]
  },
  {
   "cell_type": "code",
   "execution_count": 3,
   "id": "77f9b634-01a7-4398-acbe-948772efd1e5",
   "metadata": {},
   "outputs": [],
   "source": [
    "X = df.drop('Outcome', axis =1).values\n",
    "y = df['Outcome'].values"
   ]
  },
  {
   "cell_type": "code",
   "execution_count": 4,
   "id": "6a3994e0-b9ba-4bfa-aa6e-5882fbc43a86",
   "metadata": {},
   "outputs": [],
   "source": [
    "X = torch.FloatTensor(X)\n",
    "y = torch.FloatTensor(y).unsqueeze(1)"
   ]
  },
  {
   "cell_type": "code",
   "execution_count": 5,
   "id": "855b7e77-6590-48df-a1dc-0a0a71d7bcdb",
   "metadata": {},
   "outputs": [],
   "source": [
    "X_train,X_test,y_train,y_test = train_test_split(X,y, random_state=42, test_size=0.2, shuffle=True)\n",
    "X_train,X_val,y_train,y_val = train_test_split(X_train,y_train,random_state=42, test_size=0.2, shuffle=True )"
   ]
  },
  {
   "cell_type": "code",
   "execution_count": 6,
   "id": "833cd12c-2806-4a66-9e7e-1f9c6cae1b2f",
   "metadata": {},
   "outputs": [],
   "source": [
    "train_dataset = TensorDataset(X_train, y_train)\n",
    "test_dataset = TensorDataset(X_test, y_test)\n",
    "val_dataset = TensorDataset(X_val, y_val)\n"
   ]
  },
  {
   "cell_type": "code",
   "execution_count": 7,
   "id": "ca36504e-4db4-4a21-91dd-cc4135778809",
   "metadata": {},
   "outputs": [],
   "source": [
    "train_loader = DataLoader(train_dataset, batch_size = 20, shuffle = True)\n",
    "# test_loader = DataLoader(test_dataset, batch_size = 1, shuffle = True)\n",
    "val_loader = DataLoader(val_dataset, batch_size = 1, shuffle = True)"
   ]
  },
  {
   "cell_type": "code",
   "execution_count": 8,
   "id": "2d37a0a6-b453-452b-b835-889e6e63c4f7",
   "metadata": {},
   "outputs": [],
   "source": [
    "class PimaClassifier (nn.Module):\n",
    "  def __init__(self):\n",
    "    super().__init__()\n",
    "\n",
    "    self.input = nn.Linear(8,12)\n",
    "    self.h1 = nn.Linear(12,8)\n",
    "    self.output = nn.Linear(8,1)\n",
    "\n",
    "  def  forward (self,x):\n",
    "\n",
    "    x = F.relu(self.input(x))\n",
    "    x = F.relu(self.h1(x))\n",
    "    x= torch.sigmoid(self.output(x))\n",
    "\n",
    "    return x"
   ]
  },
  {
   "cell_type": "code",
   "execution_count": 9,
   "id": "552d2f34-ef06-4014-847c-99d06adbb1f8",
   "metadata": {},
   "outputs": [
    {
     "data": {
      "text/plain": [
       "PimaClassifier(\n",
       "  (input): Linear(in_features=8, out_features=12, bias=True)\n",
       "  (h1): Linear(in_features=12, out_features=8, bias=True)\n",
       "  (output): Linear(in_features=8, out_features=1, bias=True)\n",
       ")"
      ]
     },
     "execution_count": 9,
     "metadata": {},
     "output_type": "execute_result"
    }
   ],
   "source": [
    "torch.manual_seed(1)\n",
    "model = PimaClassifier()\n",
    "model"
   ]
  },
  {
   "cell_type": "code",
   "execution_count": 10,
   "id": "be1c5248-50b5-4417-b258-5187d1cbe74f",
   "metadata": {},
   "outputs": [],
   "source": [
    "criterion = nn.BCELoss()\n",
    "optimizer = torch.optim.Adam(model.parameters(), lr = 0.0001)"
   ]
  },
  {
   "cell_type": "code",
   "execution_count": 11,
   "id": "6b615e28-5420-40d0-aa89-133b96e62170",
   "metadata": {},
   "outputs": [
    {
     "name": "stdout",
     "output_type": "stream",
     "text": [
      "training loss :1.004664225879366, validation loss :0.8746900528033332\n",
      "training loss :0.753137006900461, validation loss :0.7348809580174767\n",
      "training loss :0.6845978267809524, validation loss :0.6907601965273299\n",
      "training loss :0.6588301657416428, validation loss :0.6680763929597731\n",
      "training loss :0.6421537890939266, validation loss :0.6562738191730123\n",
      "training loss :0.6314749289190211, validation loss :0.6500079822007233\n",
      "training loss :0.6242709312808004, validation loss :0.6430130051373224\n",
      "training loss :0.615193579930152, validation loss :0.6385486887813341\n",
      "training loss :0.6093003785051785, validation loss :0.6340743833319927\n",
      "training loss :0.6030358998692934, validation loss :0.6302087665421934\n",
      "training loss :0.5964634210903145, validation loss :0.6273897345351979\n",
      "training loss :0.5917427044536334, validation loss :0.6251993648919875\n",
      "training loss :0.5881406494289212, validation loss :0.6238185970975858\n",
      "training loss :0.5847295068674806, validation loss :0.6221002771753849\n",
      "training loss :0.5816826584868421, validation loss :0.6205221371558624\n",
      "training loss :0.5787654150042174, validation loss :0.6188612211404777\n",
      "training loss :0.5758826052826922, validation loss :0.6175419486211082\n",
      "training loss :0.5729158325253582, validation loss :0.6150143017189774\n",
      "training loss :0.570485557291027, validation loss :0.6122160267266559\n",
      "training loss :0.5682218097256546, validation loss :0.6103345885327677\n",
      "training loss :0.5667143746937365, validation loss :0.608054252583685\n",
      "training loss :0.5639861113185067, validation loss :0.6075660956766062\n",
      "training loss :0.5620185378369877, validation loss :0.6060748596531831\n",
      "training loss :0.561614681528445, validation loss :0.6048932133045622\n",
      "training loss :0.5596146434242031, validation loss :0.6040746467112283\n"
     ]
    }
   ],
   "source": [
    "epochs = 250\n",
    "train_loss = []\n",
    "val_loss = []\n",
    "\n",
    "for epoch in range(epochs):\n",
    "    epoch_loss = 0\n",
    "    model.train()\n",
    "    for Xtrain,ytrain in train_loader:\n",
    "        y_pred = model(Xtrain)\n",
    "        loss = criterion(y_pred,ytrain)\n",
    "        optimizer.zero_grad()\n",
    "        epoch_loss += loss.item() * Xtrain.size(0)\n",
    "        loss.backward()\n",
    "        optimizer.step()\n",
    "    epoch_loss /= len(train_loader.dataset) \n",
    "    train_loss.append(epoch_loss)\n",
    "\n",
    "    model.eval()\n",
    "    with torch.no_grad():\n",
    "        val_epoch_loss = 0\n",
    "        for Xval,yval in val_loader:\n",
    "            val_pred = model(Xval)\n",
    "            loss = criterion(val_pred,yval)\n",
    "            val_epoch_loss += loss.item() * Xval.size(0)\n",
    "        val_epoch_loss /= len(val_loader.dataset) \n",
    "        val_loss.append(val_epoch_loss)\n",
    "    if epoch % 10 == 0:\n",
    "        print(f'training loss :{epoch_loss}, validation loss :{val_epoch_loss}')"
   ]
  },
  {
   "cell_type": "code",
   "execution_count": 12,
   "id": "4ad7b0a5-6463-4c03-98c3-ca892f11806a",
   "metadata": {},
   "outputs": [
    {
     "data": {
      "image/png": "[encoded data removed]",
      "text/plain": [
       "<Figure size 640x480 with 1 Axes>"
      ]
     },
     "metadata": {},
     "output_type": "display_data"
    }
   ],
   "source": [
    "plt.plot(train_loss)\n",
    "plt.plot(val_loss)\n",
    "plt.show()"
   ]
  },
  {
   "cell_type": "code",
   "execution_count": 13,
   "id": "1f383cda-f502-49cf-a3b1-2dc46580fb49",
   "metadata": {},
   "outputs": [
    {
     "name": "stdout",
     "output_type": "stream",
     "text": [
      "Testing Accuracy : 72.07792663574219\n",
      "got 111.0 correct from 154\n"
     ]
    }
   ],
   "source": [
    "with torch.no_grad():\n",
    "    model.eval()\n",
    "    y_test_pred = model(X_test)\n",
    "    loss_val = criterion(y_test_pred, y_test).item()\n",
    "\n",
    "    correct = (y_test_pred.round() == y_test).float().sum()\n",
    "    total = float(y_test.size(0))\n",
    "    print(\"Testing Accuracy :\",((correct / total) * 100 ).item())\n",
    "    print(f\"got {correct} correct from {len(X_test)}\")"
   ]
  },
  {
   "cell_type": "code",
   "execution_count": 14,
   "id": "7c95b44a-6dfe-4733-81a2-1048e5b02957",
   "metadata": {},
   "outputs": [],
   "source": [
    "def add_noise(X_train,y_train,num_of_times,mean=0,std=0.2):\n",
    "\n",
    "  new_X_train=[]\n",
    "  new_y_train=[]\n",
    "\n",
    "  for _ in range(num_of_times):\n",
    "    # data=X_train.clone\n",
    "    noisy_data=X_train[:,1:].clone()\n",
    "    noise=torch.randn_like(noisy_data) * std + mean\n",
    "    noisy_data += noise\n",
    "    noisy_data = torch.cat((X_train[:,0].unsqueeze(1),noisy_data), dim=1)\n",
    "    new_X_train.append(noisy_data)\n",
    "    new_y_train.append(y_train.clone())\n",
    "\n",
    "  return torch.cat(new_X_train, dim=0) , torch.cat(new_y_train, dim=0)\n",
    "\n",
    "\n",
    "X_train_noisy,y_train_noisy = add_noise(X_train,y_train,num_of_times=2)"
   ]
  },
  {
   "cell_type": "code",
   "execution_count": 15,
   "id": "667a4667-d21b-409c-bdbe-10ebdfff58ba",
   "metadata": {},
   "outputs": [],
   "source": [
    "noise_dataset = TensorDataset(X_train_noisy, y_train_noisy)\n",
    "noise_loader = DataLoader(noise_dataset, batch_size = 20, shuffle = True)"
   ]
  },
  {
   "cell_type": "code",
   "execution_count": 16,
   "id": "f2ba9e1e-c994-4447-809a-981aa164c650",
   "metadata": {},
   "outputs": [
    {
     "data": {
      "text/plain": [
       "PimaClassifier(\n",
       "  (input): Linear(in_features=8, out_features=12, bias=True)\n",
       "  (h1): Linear(in_features=12, out_features=8, bias=True)\n",
       "  (output): Linear(in_features=8, out_features=1, bias=True)\n",
       ")"
      ]
     },
     "execution_count": 16,
     "metadata": {},
     "output_type": "execute_result"
    }
   ],
   "source": [
    "torch.manual_seed(45)\n",
    "model1 = PimaClassifier()\n",
    "model1"
   ]
  },
  {
   "cell_type": "code",
   "execution_count": 17,
   "id": "f817b61c-209e-47d7-919e-c75ddbb5dd6f",
   "metadata": {},
   "outputs": [],
   "source": [
    "loss_function = nn.BCELoss()\n",
    "optimizer1 = torch.optim.Adam(model1.parameters(), lr = 0.0001)"
   ]
  },
  {
   "cell_type": "code",
   "execution_count": 18,
   "id": "bd615da3-8b3b-45e4-b589-d93e34e7da04",
   "metadata": {},
   "outputs": [
    {
     "name": "stdout",
     "output_type": "stream",
     "text": [
      "training loss :1.7250659609035173, validation loss :1.4297004369640254\n",
      "training loss :0.7762245569840953, validation loss :0.7392872413052474\n",
      "training loss :0.70324735024796, validation loss :0.6751777255544211\n",
      "training loss :0.6720824339360666, validation loss :0.656547106620742\n",
      "training loss :0.6510202121103368, validation loss :0.6469391775658218\n",
      "training loss :0.6347359162726859, validation loss :0.6393033001359886\n",
      "training loss :0.6221696705293752, validation loss :0.6348560788948846\n",
      "training loss :0.6128787983459271, validation loss :0.6320440873988276\n",
      "training loss :0.6044935758876218, validation loss :0.62984148755185\n",
      "training loss :0.5973893491410918, validation loss :0.6279922352301154\n",
      "training loss :0.5907902727908855, validation loss :0.6271598536551484\n",
      "training loss :0.5841400090400167, validation loss :0.6266325815785222\n",
      "training loss :0.5782258195571162, validation loss :0.6251301060816864\n",
      "training loss :0.5729564692969235, validation loss :0.624435251790697\n",
      "training loss :0.5672230477427757, validation loss :0.6210660199309147\n",
      "training loss :0.5620192428955963, validation loss :0.6178769315100783\n",
      "training loss :0.557751708263778, validation loss :0.6161787304837953\n",
      "training loss :0.5532237440651158, validation loss :0.6102123010631014\n",
      "training loss :0.5496594067018047, validation loss :0.6150343937011875\n",
      "training loss :0.5475630862164157, validation loss :0.609427573384596\n",
      "training loss :0.5423847745246654, validation loss :0.6089391748636689\n",
      "training loss :0.5406172736538404, validation loss :0.609529811224514\n",
      "training loss :0.5362616959208141, validation loss :0.6078658932810498\n",
      "training loss :0.5330837368965149, validation loss :0.604133542409409\n",
      "training loss :0.5301950208524094, validation loss :0.6039079943287557\n"
     ]
    }
   ],
   "source": [
    "epochs = 250\n",
    "train_loss = []\n",
    "val_loss = []\n",
    "\n",
    "for epoch in range(epochs):\n",
    "    epoch_loss = 0\n",
    "    model1.train()\n",
    "    for Xnoise,ynoise in noise_loader:\n",
    "        noise_pred = model1(Xnoise)\n",
    "        noise_loss = loss_function(noise_pred,ynoise)\n",
    "        optimizer1.zero_grad()\n",
    "        epoch_loss += noise_loss.item() * Xnoise.size(0)\n",
    "        noise_loss.backward()\n",
    "        optimizer1.step()\n",
    "    epoch_loss /= len(noise_loader.dataset) \n",
    "    train_loss.append(epoch_loss)\n",
    "\n",
    "    model1.eval()\n",
    "    with torch.no_grad():\n",
    "        val_epoch_loss = 0\n",
    "        for Xval,yval in val_loader:\n",
    "            val_pred = model1(Xval)\n",
    "            loss = loss_function(val_pred,yval)\n",
    "            val_epoch_loss += loss.item() * Xval.size(0)\n",
    "        val_epoch_loss /= len(val_loader.dataset) \n",
    "        val_loss.append(val_epoch_loss)\n",
    "    if epoch % 10 == 0:\n",
    "        print(f'training loss :{epoch_loss}, validation loss :{val_epoch_loss}')"
   ]
  },
  {
   "cell_type": "code",
   "execution_count": 19,
   "id": "4649e9c7-fb54-4355-a5a9-908132b1a62b",
   "metadata": {},
   "outputs": [
    {
     "data": {
      "image/png": "[encoded data removed]",
      "text/plain": [
       "<Figure size 640x480 with 1 Axes>"
      ]
     },
     "metadata": {},
     "output_type": "display_data"
    }
   ],
   "source": [
    "plt.plot(train_loss)\n",
    "plt.plot(val_loss)\n",
    "plt.show()"
   ]
  },
  {
   "cell_type": "code",
   "execution_count": 20,
   "id": "163470e2-e92d-43a8-af97-2735dac00e26",
   "metadata": {},
   "outputs": [
    {
     "name": "stdout",
     "output_type": "stream",
     "text": [
      "Testing Accuracy : 74.0259780883789\n",
      "got 114.0 correct from 154\n"
     ]
    }
   ],
   "source": [
    "with torch.no_grad():\n",
    "    model1.eval()\n",
    "    y_test_pred = model1(X_test)\n",
    "    loss_test = loss_function(y_test_pred, y_test).item()\n",
    "\n",
    "    correct = (y_test_pred.round() == y_test).float().sum()\n",
    "    total = float(y_test.size(0))\n",
    "    print(\"Testing Accuracy :\",((correct / total) * 100 ).item())\n",
    "    print(f\"got {correct} correct from {len(X_test)}\")"
   ]
  },
  {
   "cell_type": "code",
   "execution_count": null,
   "id": "ab86fde6-9dc2-4829-9605-30a9330ee240",
   "metadata": {},
   "outputs": [],
   "source": []
  }
 ],
 "metadata": {
  "kernelspec": {
   "display_name": "Python (task1)",
   "language": "python",
   "name": "task1"
  },
  "language_info": {
   "codemirror_mode": {
    "name": "ipython",
    "version": 3
   },
   "file_extension": ".py",
   "mimetype": "text/x-python",
   "name": "python",
   "nbconvert_exporter": "python",
   "pygments_lexer": "ipython3",
   "version": "3.8.10"
  }
 },
 "nbformat": 4,
 "nbformat_minor": 5
}
